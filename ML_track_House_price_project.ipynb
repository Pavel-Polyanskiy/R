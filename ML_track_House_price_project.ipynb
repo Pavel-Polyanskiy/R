{
 "cells": [
  {
   "cell_type": "code",
   "execution_count": 12,
   "id": "exterior-party",
   "metadata": {},
   "outputs": [],
   "source": [
    "import pandas as pd\n",
    "import numpy as np"
   ]
  },
  {
   "cell_type": "code",
   "execution_count": 13,
   "id": "strong-release",
   "metadata": {},
   "outputs": [],
   "source": [
    "train = pd.read_csv(\"/Users/polyanaboss/Downloads/house_prices_kaggle/train.csv\")\n",
    "val = pd.read_csv(\"/Users/polyanaboss/Downloads/house_prices_kaggle/test.csv\")"
   ]
  },
  {
   "cell_type": "markdown",
   "id": "three-specification",
   "metadata": {},
   "source": [
    "**Ход работы**:\n",
    "\n",
    "1) соединяем оба датасета, чтобы импьютинг и дамми переменные не создавали разное количество колонок(при раздельном импьютинге)\n",
    "\n",
    "2) получаем готовый датасет для передачи в модели\n",
    "\n",
    "3) пробуем 2 регрессии - Lasso and Ridge\n",
    "\n",
    "4) используем grid search и RidgeCV для оптимизации второго алгоритма\n",
    "\n",
    "5) пробуем более мощные алгоритмы - ансамбль LIGHTGBM - градиентый бустинг, только более продвинутый(из отдельной библиотеки)\n",
    "\n",
    "6) выбираем лучшую модель на основе ошибки на тестовой выборке\n",
    "\n",
    "7) делаем предсказания на валидационном сете\n",
    "\n",
    "P.S: местами комментарии английские, так как русских аналогов терминов либо нет, либо они очень неудобные, спасибо за понимание"
   ]
  },
  {
   "cell_type": "markdown",
   "id": "professional-registration",
   "metadata": {},
   "source": [
    "# Imputing "
   ]
  },
  {
   "cell_type": "code",
   "execution_count": 14,
   "id": "advised-poultry",
   "metadata": {},
   "outputs": [],
   "source": [
    "#отделяем таргет от всего датасета\n",
    "target = train['SalePrice']\n",
    "train.drop('SalePrice', axis = 1, inplace = True)"
   ]
  },
  {
   "cell_type": "code",
   "execution_count": 16,
   "id": "prospective-russia",
   "metadata": {
    "scrolled": true
   },
   "outputs": [
    {
     "data": {
      "text/html": [
       "<div>\n",
       "<style scoped>\n",
       "    .dataframe tbody tr th:only-of-type {\n",
       "        vertical-align: middle;\n",
       "    }\n",
       "\n",
       "    .dataframe tbody tr th {\n",
       "        vertical-align: top;\n",
       "    }\n",
       "\n",
       "    .dataframe thead th {\n",
       "        text-align: right;\n",
       "    }\n",
       "</style>\n",
       "<table border=\"1\" class=\"dataframe\">\n",
       "  <thead>\n",
       "    <tr style=\"text-align: right;\">\n",
       "      <th></th>\n",
       "      <th>Id</th>\n",
       "      <th>MSSubClass</th>\n",
       "      <th>MSZoning</th>\n",
       "      <th>LotFrontage</th>\n",
       "      <th>LotArea</th>\n",
       "      <th>Street</th>\n",
       "      <th>Alley</th>\n",
       "      <th>LotShape</th>\n",
       "      <th>LandContour</th>\n",
       "      <th>Utilities</th>\n",
       "      <th>...</th>\n",
       "      <th>ScreenPorch</th>\n",
       "      <th>PoolArea</th>\n",
       "      <th>PoolQC</th>\n",
       "      <th>Fence</th>\n",
       "      <th>MiscFeature</th>\n",
       "      <th>MiscVal</th>\n",
       "      <th>MoSold</th>\n",
       "      <th>YrSold</th>\n",
       "      <th>SaleType</th>\n",
       "      <th>SaleCondition</th>\n",
       "    </tr>\n",
       "  </thead>\n",
       "  <tbody>\n",
       "    <tr>\n",
       "      <th>0</th>\n",
       "      <td>1</td>\n",
       "      <td>60</td>\n",
       "      <td>RL</td>\n",
       "      <td>65.0</td>\n",
       "      <td>8450</td>\n",
       "      <td>Pave</td>\n",
       "      <td>NaN</td>\n",
       "      <td>Reg</td>\n",
       "      <td>Lvl</td>\n",
       "      <td>AllPub</td>\n",
       "      <td>...</td>\n",
       "      <td>0</td>\n",
       "      <td>0</td>\n",
       "      <td>NaN</td>\n",
       "      <td>NaN</td>\n",
       "      <td>NaN</td>\n",
       "      <td>0</td>\n",
       "      <td>2</td>\n",
       "      <td>2008</td>\n",
       "      <td>WD</td>\n",
       "      <td>Normal</td>\n",
       "    </tr>\n",
       "    <tr>\n",
       "      <th>1</th>\n",
       "      <td>2</td>\n",
       "      <td>20</td>\n",
       "      <td>RL</td>\n",
       "      <td>80.0</td>\n",
       "      <td>9600</td>\n",
       "      <td>Pave</td>\n",
       "      <td>NaN</td>\n",
       "      <td>Reg</td>\n",
       "      <td>Lvl</td>\n",
       "      <td>AllPub</td>\n",
       "      <td>...</td>\n",
       "      <td>0</td>\n",
       "      <td>0</td>\n",
       "      <td>NaN</td>\n",
       "      <td>NaN</td>\n",
       "      <td>NaN</td>\n",
       "      <td>0</td>\n",
       "      <td>5</td>\n",
       "      <td>2007</td>\n",
       "      <td>WD</td>\n",
       "      <td>Normal</td>\n",
       "    </tr>\n",
       "    <tr>\n",
       "      <th>2</th>\n",
       "      <td>3</td>\n",
       "      <td>60</td>\n",
       "      <td>RL</td>\n",
       "      <td>68.0</td>\n",
       "      <td>11250</td>\n",
       "      <td>Pave</td>\n",
       "      <td>NaN</td>\n",
       "      <td>IR1</td>\n",
       "      <td>Lvl</td>\n",
       "      <td>AllPub</td>\n",
       "      <td>...</td>\n",
       "      <td>0</td>\n",
       "      <td>0</td>\n",
       "      <td>NaN</td>\n",
       "      <td>NaN</td>\n",
       "      <td>NaN</td>\n",
       "      <td>0</td>\n",
       "      <td>9</td>\n",
       "      <td>2008</td>\n",
       "      <td>WD</td>\n",
       "      <td>Normal</td>\n",
       "    </tr>\n",
       "    <tr>\n",
       "      <th>3</th>\n",
       "      <td>4</td>\n",
       "      <td>70</td>\n",
       "      <td>RL</td>\n",
       "      <td>60.0</td>\n",
       "      <td>9550</td>\n",
       "      <td>Pave</td>\n",
       "      <td>NaN</td>\n",
       "      <td>IR1</td>\n",
       "      <td>Lvl</td>\n",
       "      <td>AllPub</td>\n",
       "      <td>...</td>\n",
       "      <td>0</td>\n",
       "      <td>0</td>\n",
       "      <td>NaN</td>\n",
       "      <td>NaN</td>\n",
       "      <td>NaN</td>\n",
       "      <td>0</td>\n",
       "      <td>2</td>\n",
       "      <td>2006</td>\n",
       "      <td>WD</td>\n",
       "      <td>Abnorml</td>\n",
       "    </tr>\n",
       "    <tr>\n",
       "      <th>4</th>\n",
       "      <td>5</td>\n",
       "      <td>60</td>\n",
       "      <td>RL</td>\n",
       "      <td>84.0</td>\n",
       "      <td>14260</td>\n",
       "      <td>Pave</td>\n",
       "      <td>NaN</td>\n",
       "      <td>IR1</td>\n",
       "      <td>Lvl</td>\n",
       "      <td>AllPub</td>\n",
       "      <td>...</td>\n",
       "      <td>0</td>\n",
       "      <td>0</td>\n",
       "      <td>NaN</td>\n",
       "      <td>NaN</td>\n",
       "      <td>NaN</td>\n",
       "      <td>0</td>\n",
       "      <td>12</td>\n",
       "      <td>2008</td>\n",
       "      <td>WD</td>\n",
       "      <td>Normal</td>\n",
       "    </tr>\n",
       "  </tbody>\n",
       "</table>\n",
       "<p>5 rows × 80 columns</p>\n",
       "</div>"
      ],
      "text/plain": [
       "   Id  MSSubClass MSZoning  LotFrontage  LotArea Street Alley LotShape  \\\n",
       "0   1          60       RL         65.0     8450   Pave   NaN      Reg   \n",
       "1   2          20       RL         80.0     9600   Pave   NaN      Reg   \n",
       "2   3          60       RL         68.0    11250   Pave   NaN      IR1   \n",
       "3   4          70       RL         60.0     9550   Pave   NaN      IR1   \n",
       "4   5          60       RL         84.0    14260   Pave   NaN      IR1   \n",
       "\n",
       "  LandContour Utilities  ... ScreenPorch PoolArea PoolQC Fence MiscFeature  \\\n",
       "0         Lvl    AllPub  ...           0        0    NaN   NaN         NaN   \n",
       "1         Lvl    AllPub  ...           0        0    NaN   NaN         NaN   \n",
       "2         Lvl    AllPub  ...           0        0    NaN   NaN         NaN   \n",
       "3         Lvl    AllPub  ...           0        0    NaN   NaN         NaN   \n",
       "4         Lvl    AllPub  ...           0        0    NaN   NaN         NaN   \n",
       "\n",
       "  MiscVal MoSold  YrSold  SaleType  SaleCondition  \n",
       "0       0      2    2008        WD         Normal  \n",
       "1       0      5    2007        WD         Normal  \n",
       "2       0      9    2008        WD         Normal  \n",
       "3       0      2    2006        WD        Abnorml  \n",
       "4       0     12    2008        WD         Normal  \n",
       "\n",
       "[5 rows x 80 columns]"
      ]
     },
     "execution_count": 16,
     "metadata": {},
     "output_type": "execute_result"
    }
   ],
   "source": [
    "train.head()"
   ]
  },
  {
   "cell_type": "code",
   "execution_count": 37,
   "id": "confirmed-johnston",
   "metadata": {},
   "outputs": [
    {
     "data": {
      "text/html": [
       "<div>\n",
       "<style scoped>\n",
       "    .dataframe tbody tr th:only-of-type {\n",
       "        vertical-align: middle;\n",
       "    }\n",
       "\n",
       "    .dataframe tbody tr th {\n",
       "        vertical-align: top;\n",
       "    }\n",
       "\n",
       "    .dataframe thead th {\n",
       "        text-align: right;\n",
       "    }\n",
       "</style>\n",
       "<table border=\"1\" class=\"dataframe\">\n",
       "  <thead>\n",
       "    <tr style=\"text-align: right;\">\n",
       "      <th></th>\n",
       "      <th>Id</th>\n",
       "      <th>MSSubClass</th>\n",
       "      <th>MSZoning</th>\n",
       "      <th>LotFrontage</th>\n",
       "      <th>LotArea</th>\n",
       "      <th>Street</th>\n",
       "      <th>Alley</th>\n",
       "      <th>LotShape</th>\n",
       "      <th>LandContour</th>\n",
       "      <th>Utilities</th>\n",
       "      <th>...</th>\n",
       "      <th>ScreenPorch</th>\n",
       "      <th>PoolArea</th>\n",
       "      <th>PoolQC</th>\n",
       "      <th>Fence</th>\n",
       "      <th>MiscFeature</th>\n",
       "      <th>MiscVal</th>\n",
       "      <th>MoSold</th>\n",
       "      <th>YrSold</th>\n",
       "      <th>SaleType</th>\n",
       "      <th>SaleCondition</th>\n",
       "    </tr>\n",
       "  </thead>\n",
       "  <tbody>\n",
       "    <tr>\n",
       "      <th>1455</th>\n",
       "      <td>1456</td>\n",
       "      <td>60</td>\n",
       "      <td>RL</td>\n",
       "      <td>62.0</td>\n",
       "      <td>7917</td>\n",
       "      <td>Pave</td>\n",
       "      <td>NaN</td>\n",
       "      <td>Reg</td>\n",
       "      <td>Lvl</td>\n",
       "      <td>AllPub</td>\n",
       "      <td>...</td>\n",
       "      <td>0</td>\n",
       "      <td>0</td>\n",
       "      <td>NaN</td>\n",
       "      <td>NaN</td>\n",
       "      <td>NaN</td>\n",
       "      <td>0</td>\n",
       "      <td>8</td>\n",
       "      <td>2007</td>\n",
       "      <td>WD</td>\n",
       "      <td>Normal</td>\n",
       "    </tr>\n",
       "    <tr>\n",
       "      <th>1456</th>\n",
       "      <td>1457</td>\n",
       "      <td>20</td>\n",
       "      <td>RL</td>\n",
       "      <td>85.0</td>\n",
       "      <td>13175</td>\n",
       "      <td>Pave</td>\n",
       "      <td>NaN</td>\n",
       "      <td>Reg</td>\n",
       "      <td>Lvl</td>\n",
       "      <td>AllPub</td>\n",
       "      <td>...</td>\n",
       "      <td>0</td>\n",
       "      <td>0</td>\n",
       "      <td>NaN</td>\n",
       "      <td>MnPrv</td>\n",
       "      <td>NaN</td>\n",
       "      <td>0</td>\n",
       "      <td>2</td>\n",
       "      <td>2010</td>\n",
       "      <td>WD</td>\n",
       "      <td>Normal</td>\n",
       "    </tr>\n",
       "    <tr>\n",
       "      <th>1457</th>\n",
       "      <td>1458</td>\n",
       "      <td>70</td>\n",
       "      <td>RL</td>\n",
       "      <td>66.0</td>\n",
       "      <td>9042</td>\n",
       "      <td>Pave</td>\n",
       "      <td>NaN</td>\n",
       "      <td>Reg</td>\n",
       "      <td>Lvl</td>\n",
       "      <td>AllPub</td>\n",
       "      <td>...</td>\n",
       "      <td>0</td>\n",
       "      <td>0</td>\n",
       "      <td>NaN</td>\n",
       "      <td>GdPrv</td>\n",
       "      <td>Shed</td>\n",
       "      <td>2500</td>\n",
       "      <td>5</td>\n",
       "      <td>2010</td>\n",
       "      <td>WD</td>\n",
       "      <td>Normal</td>\n",
       "    </tr>\n",
       "    <tr>\n",
       "      <th>1458</th>\n",
       "      <td>1459</td>\n",
       "      <td>20</td>\n",
       "      <td>RL</td>\n",
       "      <td>68.0</td>\n",
       "      <td>9717</td>\n",
       "      <td>Pave</td>\n",
       "      <td>NaN</td>\n",
       "      <td>Reg</td>\n",
       "      <td>Lvl</td>\n",
       "      <td>AllPub</td>\n",
       "      <td>...</td>\n",
       "      <td>0</td>\n",
       "      <td>0</td>\n",
       "      <td>NaN</td>\n",
       "      <td>NaN</td>\n",
       "      <td>NaN</td>\n",
       "      <td>0</td>\n",
       "      <td>4</td>\n",
       "      <td>2010</td>\n",
       "      <td>WD</td>\n",
       "      <td>Normal</td>\n",
       "    </tr>\n",
       "    <tr>\n",
       "      <th>1459</th>\n",
       "      <td>1460</td>\n",
       "      <td>20</td>\n",
       "      <td>RL</td>\n",
       "      <td>75.0</td>\n",
       "      <td>9937</td>\n",
       "      <td>Pave</td>\n",
       "      <td>NaN</td>\n",
       "      <td>Reg</td>\n",
       "      <td>Lvl</td>\n",
       "      <td>AllPub</td>\n",
       "      <td>...</td>\n",
       "      <td>0</td>\n",
       "      <td>0</td>\n",
       "      <td>NaN</td>\n",
       "      <td>NaN</td>\n",
       "      <td>NaN</td>\n",
       "      <td>0</td>\n",
       "      <td>6</td>\n",
       "      <td>2008</td>\n",
       "      <td>WD</td>\n",
       "      <td>Normal</td>\n",
       "    </tr>\n",
       "  </tbody>\n",
       "</table>\n",
       "<p>5 rows × 80 columns</p>\n",
       "</div>"
      ],
      "text/plain": [
       "        Id  MSSubClass MSZoning  LotFrontage  LotArea Street Alley LotShape  \\\n",
       "1455  1456          60       RL         62.0     7917   Pave   NaN      Reg   \n",
       "1456  1457          20       RL         85.0    13175   Pave   NaN      Reg   \n",
       "1457  1458          70       RL         66.0     9042   Pave   NaN      Reg   \n",
       "1458  1459          20       RL         68.0     9717   Pave   NaN      Reg   \n",
       "1459  1460          20       RL         75.0     9937   Pave   NaN      Reg   \n",
       "\n",
       "     LandContour Utilities  ... ScreenPorch PoolArea PoolQC  Fence  \\\n",
       "1455         Lvl    AllPub  ...           0        0    NaN    NaN   \n",
       "1456         Lvl    AllPub  ...           0        0    NaN  MnPrv   \n",
       "1457         Lvl    AllPub  ...           0        0    NaN  GdPrv   \n",
       "1458         Lvl    AllPub  ...           0        0    NaN    NaN   \n",
       "1459         Lvl    AllPub  ...           0        0    NaN    NaN   \n",
       "\n",
       "     MiscFeature MiscVal MoSold  YrSold  SaleType  SaleCondition  \n",
       "1455         NaN       0      8    2007        WD         Normal  \n",
       "1456         NaN       0      2    2010        WD         Normal  \n",
       "1457        Shed    2500      5    2010        WD         Normal  \n",
       "1458         NaN       0      4    2010        WD         Normal  \n",
       "1459         NaN       0      6    2008        WD         Normal  \n",
       "\n",
       "[5 rows x 80 columns]"
      ]
     },
     "execution_count": 37,
     "metadata": {},
     "output_type": "execute_result"
    }
   ],
   "source": [
    "train.tail()"
   ]
  },
  {
   "cell_type": "code",
   "execution_count": 23,
   "id": "derived-teens",
   "metadata": {},
   "outputs": [
    {
     "name": "stdout",
     "output_type": "stream",
     "text": [
      "23\n"
     ]
    }
   ],
   "source": [
    "#соединяем данные для импьютинга\n",
    "df = pd.concat((train, val), axis = 0)\n",
    "#categorical features for imputing\n",
    "categorical_features = [feature for feature in df.columns if df[feature].dtypes=='O' \n",
    "                                       and df[feature].isnull().sum() > 0]\n",
    "print(len(categorical_features))"
   ]
  },
  {
   "cell_type": "code",
   "execution_count": 24,
   "id": "decent-potato",
   "metadata": {},
   "outputs": [
    {
     "name": "stdout",
     "output_type": "stream",
     "text": [
      "11\n"
     ]
    }
   ],
   "source": [
    "#num\n",
    "numerical_features = [feature for feature in df.columns if df[feature].dtypes=='int64' or df[feature].dtypes=='float64']\n",
    "numerical_features = [feature for feature in numerical_features if df[feature].isnull().sum() > 0]\n",
    "print(len(numerical_features))\n",
    "\n"
   ]
  },
  {
   "cell_type": "code",
   "execution_count": 25,
   "id": "specialized-trout",
   "metadata": {},
   "outputs": [],
   "source": [
    "from sklearn.impute import SimpleImputer"
   ]
  },
  {
   "cell_type": "code",
   "execution_count": 26,
   "id": "academic-rachel",
   "metadata": {},
   "outputs": [],
   "source": [
    "imputer_cat = SimpleImputer(strategy='most_frequent')\n",
    "imputer_num = SimpleImputer(strategy='mean')"
   ]
  },
  {
   "cell_type": "code",
   "execution_count": 32,
   "id": "powerful-snowboard",
   "metadata": {},
   "outputs": [],
   "source": [
    "#imputing for numeric features with most frequent strategy\n",
    "for feature in categorical_features:\n",
    "    df[feature + \"_imputed\"] = imputer_cat.fit_transform(np.array(df[feature]).reshape(-1, 1))\n",
    "    df.drop(feature, axis = 1, inplace = True)"
   ]
  },
  {
   "cell_type": "code",
   "execution_count": 33,
   "id": "canadian-penny",
   "metadata": {},
   "outputs": [],
   "source": [
    "#imputing for numeric features with mean strategy\n",
    "for feature in numerical_features:\n",
    "    df[feature + \"_imputed\"] = imputer_num.fit_transform(np.array(df[feature]).reshape(-1, 1))\n",
    "    df.drop(feature, axis = 1, inplace = True)"
   ]
  },
  {
   "cell_type": "code",
   "execution_count": 36,
   "id": "vocal-lending",
   "metadata": {},
   "outputs": [
    {
     "data": {
      "text/plain": [
       "0"
      ]
     },
     "execution_count": 36,
     "metadata": {},
     "output_type": "execute_result"
    }
   ],
   "source": [
    "#number of missing values\n",
    "(df.isnull().sum() > 0).sum()"
   ]
  },
  {
   "cell_type": "code",
   "execution_count": 40,
   "id": "occasional-morocco",
   "metadata": {},
   "outputs": [],
   "source": [
    "#getting dummies\n",
    "df = pd.get_dummies(df, drop_first=True)"
   ]
  },
  {
   "cell_type": "code",
   "execution_count": 42,
   "id": "infectious-adolescent",
   "metadata": {},
   "outputs": [],
   "source": [
    "#splitting back to train and validation \n",
    "train_imp = df.iloc[:1460, :]\n",
    "val_imp = df.iloc[1460:, :]"
   ]
  },
  {
   "cell_type": "code",
   "execution_count": 43,
   "id": "ambient-anatomy",
   "metadata": {},
   "outputs": [
    {
     "data": {
      "text/plain": [
       "(1459, 246)"
      ]
     },
     "execution_count": 43,
     "metadata": {},
     "output_type": "execute_result"
    }
   ],
   "source": [
    "val_imp.shape"
   ]
  },
  {
   "cell_type": "code",
   "execution_count": 46,
   "id": "incoming-massachusetts",
   "metadata": {},
   "outputs": [],
   "source": [
    "#логарифмируем таргет\n",
    "target_log = np.log(target)"
   ]
  },
  {
   "cell_type": "markdown",
   "id": "married-netherlands",
   "metadata": {},
   "source": [
    "# Modelling"
   ]
  },
  {
   "cell_type": "code",
   "execution_count": 58,
   "id": "improving-assurance",
   "metadata": {},
   "outputs": [],
   "source": [
    "#linear regression - Lasso and Ridge\n",
    "from sklearn.linear_model import Lasso, LassoCV, Ridge, RidgeCV"
   ]
  },
  {
   "cell_type": "code",
   "execution_count": 48,
   "id": "separated-court",
   "metadata": {},
   "outputs": [],
   "source": [
    "#train test split\n",
    "from sklearn.model_selection import train_test_split"
   ]
  },
  {
   "cell_type": "code",
   "execution_count": 49,
   "id": "latin-chambers",
   "metadata": {},
   "outputs": [],
   "source": [
    "X_train, X_test, y_train, y_test = train_test_split(train_imp, target_log, test_size = 0.2, random_state=0)"
   ]
  },
  {
   "cell_type": "code",
   "execution_count": 51,
   "id": "inappropriate-staff",
   "metadata": {},
   "outputs": [],
   "source": [
    "#lasso model with defalut params\n",
    "lasso = Lasso().fit(X_train, y_train)"
   ]
  },
  {
   "cell_type": "code",
   "execution_count": 52,
   "id": "separate-continent",
   "metadata": {},
   "outputs": [],
   "source": [
    "#making predictions\n",
    "pred_lasso = lasso.predict(X_test)"
   ]
  },
  {
   "cell_type": "code",
   "execution_count": 53,
   "id": "inappropriate-style",
   "metadata": {},
   "outputs": [],
   "source": [
    "#ridge model with defalut params\n",
    "ridge = Ridge().fit(X_train, y_train)"
   ]
  },
  {
   "cell_type": "code",
   "execution_count": 54,
   "id": "aggregate-salmon",
   "metadata": {},
   "outputs": [],
   "source": [
    "pred_ridge = ridge.predict(X_test)"
   ]
  },
  {
   "cell_type": "code",
   "execution_count": 55,
   "id": "close-start",
   "metadata": {},
   "outputs": [],
   "source": [
    "#metrics\n",
    "from sklearn.metrics import mean_squared_error"
   ]
  },
  {
   "cell_type": "code",
   "execution_count": 56,
   "id": "narrative-evans",
   "metadata": {},
   "outputs": [
    {
     "data": {
      "text/plain": [
       "0.2654057641886514"
      ]
     },
     "execution_count": 56,
     "metadata": {},
     "output_type": "execute_result"
    }
   ],
   "source": [
    "#rmse for predictions\n",
    "mean_squared_error(pred_lasso, y_test, squared=False)"
   ]
  },
  {
   "cell_type": "code",
   "execution_count": 57,
   "id": "twelve-packing",
   "metadata": {},
   "outputs": [
    {
     "data": {
      "text/plain": [
       "0.2043671077821448"
      ]
     },
     "execution_count": 57,
     "metadata": {},
     "output_type": "execute_result"
    }
   ],
   "source": [
    "mean_squared_error(pred_ridge, y_test, squared=False)"
   ]
  },
  {
   "cell_type": "markdown",
   "id": "rubber-tract",
   "metadata": {},
   "source": [
    "Так как вторая модель показала меньшую ошибку, попробуем потьюнить именно ее"
   ]
  },
  {
   "cell_type": "markdown",
   "id": "fewer-school",
   "metadata": {},
   "source": [
    "# Grid Search "
   ]
  },
  {
   "cell_type": "markdown",
   "id": "radical-jefferson",
   "metadata": {},
   "source": [
    "Сначала попробуем универсальный метол для всех моделей, затем CV именно для Ridge regression"
   ]
  },
  {
   "cell_type": "code",
   "execution_count": 62,
   "id": "attractive-wrapping",
   "metadata": {},
   "outputs": [],
   "source": [
    "from sklearn.model_selection import RepeatedKFold\n",
    "from sklearn.model_selection import GridSearchCV\n",
    "cv = RepeatedKFold(n_splits=10, n_repeats=3, random_state=1)\n",
    "# define grid\n",
    "grid = dict()\n",
    "grid['alpha'] = np.arange(0, 1, 0.01)\n",
    "# define search\n",
    "search = GridSearchCV(ridge, grid, scoring='neg_mean_absolute_error', cv=cv, n_jobs=-1).fit(X_train, y_train)"
   ]
  },
  {
   "cell_type": "code",
   "execution_count": 64,
   "id": "auburn-dress",
   "metadata": {},
   "outputs": [
    {
     "data": {
      "text/plain": [
       "0.20450055068858983"
      ]
     },
     "execution_count": 64,
     "metadata": {},
     "output_type": "execute_result"
    }
   ],
   "source": [
    "mean_squared_error(search.predict(X_test), y_test, squared=False)"
   ]
  },
  {
   "cell_type": "code",
   "execution_count": 66,
   "id": "coral-video",
   "metadata": {},
   "outputs": [],
   "source": [
    "search1 = RidgeCV(alphas=np.arange(0, 1, 0.01), cv = cv).fit(X_train, y_train)"
   ]
  },
  {
   "cell_type": "code",
   "execution_count": 67,
   "id": "junior-printing",
   "metadata": {
    "scrolled": true
   },
   "outputs": [
    {
     "data": {
      "text/plain": [
       "0.20450055068858983"
      ]
     },
     "execution_count": 67,
     "metadata": {},
     "output_type": "execute_result"
    }
   ],
   "source": [
    "mean_squared_error(search1.predict(X_test), y_test, squared=False)"
   ]
  },
  {
   "cell_type": "markdown",
   "id": "legal-hotel",
   "metadata": {},
   "source": [
    "Видим, что особых плодов это не принесло, попробуем модели посложнее и поумнее, будем использовать **LIGHTGBM**, прокаченную версию градиентного бустинга."
   ]
  },
  {
   "cell_type": "markdown",
   "id": "adjacent-stuart",
   "metadata": {},
   "source": [
    "# LightGBM"
   ]
  },
  {
   "cell_type": "code",
   "execution_count": 68,
   "id": "international-virtue",
   "metadata": {},
   "outputs": [],
   "source": [
    "import lightgbm as lgb"
   ]
  },
  {
   "cell_type": "code",
   "execution_count": 69,
   "id": "instant-cotton",
   "metadata": {},
   "outputs": [],
   "source": [
    "#для этой библиотеки нужны данные, преобразованные специальным методом Dataset\n",
    "train_data = lgb.Dataset(X_train, label=y_train)\n",
    "                                        \n",
    "test_data = lgb.Dataset(X_test, label=y_test)"
   ]
  },
  {
   "cell_type": "code",
   "execution_count": 76,
   "id": "varying-snapshot",
   "metadata": {},
   "outputs": [],
   "source": [
    "#некоторые параметры модели, значения взял частично из своего другого проекта, решил попробовать сразу их\n",
    "defaulf_lgbm_params = {\n",
    "                    'boosting_type': 'gbdt',\n",
    "                    'objective': 'regression',\n",
    "                    'metric': 'mean_squared_error',\n",
    "                    'subsample': 0.8,\n",
    "                    'subsample_freq': 1,\n",
    "                    'learning_rate': 0.005,\n",
    "                    'num_leaves': 2**8,\n",
    "                    'min_data_in_leaf': 2**5-1,\n",
    "                    'feature_fraction': 0.8,\n",
    "                    'n_estimators': 13000,\n",
    "                    'extra_trees': True,\n",
    "                    'boost_from_average': False,\n",
    "                    #'early_stopping_rounds': 200,\n",
    "                    'verbose': -1,\n",
    "                    'seed': 42                }"
   ]
  },
  {
   "cell_type": "code",
   "execution_count": 77,
   "id": "incident-dublin",
   "metadata": {},
   "outputs": [
    {
     "name": "stdout",
     "output_type": "stream",
     "text": [
      "[100]\ttraining's l2: 53.1324\tvalid_1's l2: 53.1783\n",
      "[200]\ttraining's l2: 19.5143\tvalid_1's l2: 19.55\n",
      "[300]\ttraining's l2: 7.17438\tvalid_1's l2: 7.19872\n",
      "[400]\ttraining's l2: 2.64423\tvalid_1's l2: 2.66207\n",
      "[500]\ttraining's l2: 0.98045\tvalid_1's l2: 0.993753\n",
      "[600]\ttraining's l2: 0.368924\tvalid_1's l2: 0.380146\n",
      "[700]\ttraining's l2: 0.143589\tvalid_1's l2: 0.153188\n",
      "[800]\ttraining's l2: 0.0602237\tvalid_1's l2: 0.0687718\n",
      "[900]\ttraining's l2: 0.0291274\tvalid_1's l2: 0.037169\n",
      "[1000]\ttraining's l2: 0.0173076\tvalid_1's l2: 0.025134\n",
      "[1100]\ttraining's l2: 0.012615\tvalid_1's l2: 0.0204476\n",
      "[1200]\ttraining's l2: 0.0105626\tvalid_1's l2: 0.0184866\n",
      "[1300]\ttraining's l2: 0.00952415\tvalid_1's l2: 0.0176145\n",
      "[1400]\ttraining's l2: 0.00888504\tvalid_1's l2: 0.0171536\n",
      "[1500]\ttraining's l2: 0.0084076\tvalid_1's l2: 0.0168936\n",
      "[1600]\ttraining's l2: 0.00802574\tvalid_1's l2: 0.0167501\n",
      "[1700]\ttraining's l2: 0.00768513\tvalid_1's l2: 0.0166434\n",
      "[1800]\ttraining's l2: 0.0073769\tvalid_1's l2: 0.0165363\n",
      "[1900]\ttraining's l2: 0.00708498\tvalid_1's l2: 0.0164453\n",
      "[2000]\ttraining's l2: 0.00681246\tvalid_1's l2: 0.0163967\n",
      "[2100]\ttraining's l2: 0.0065584\tvalid_1's l2: 0.0163811\n",
      "[2200]\ttraining's l2: 0.00631739\tvalid_1's l2: 0.0163325\n",
      "[2300]\ttraining's l2: 0.00609695\tvalid_1's l2: 0.0162881\n",
      "[2400]\ttraining's l2: 0.00589013\tvalid_1's l2: 0.016255\n",
      "[2500]\ttraining's l2: 0.00569215\tvalid_1's l2: 0.0162388\n",
      "[2600]\ttraining's l2: 0.00550183\tvalid_1's l2: 0.016227\n",
      "[2700]\ttraining's l2: 0.00532377\tvalid_1's l2: 0.016215\n",
      "[2800]\ttraining's l2: 0.00515185\tvalid_1's l2: 0.0162002\n",
      "[2900]\ttraining's l2: 0.00498786\tvalid_1's l2: 0.0161729\n",
      "[3000]\ttraining's l2: 0.00483457\tvalid_1's l2: 0.0161404\n",
      "[3100]\ttraining's l2: 0.00468062\tvalid_1's l2: 0.0161195\n",
      "[3200]\ttraining's l2: 0.00453583\tvalid_1's l2: 0.0161031\n",
      "[3300]\ttraining's l2: 0.00439991\tvalid_1's l2: 0.0160872\n",
      "[3400]\ttraining's l2: 0.00426809\tvalid_1's l2: 0.016061\n",
      "[3500]\ttraining's l2: 0.00413939\tvalid_1's l2: 0.0160424\n",
      "[3600]\ttraining's l2: 0.0040158\tvalid_1's l2: 0.0160238\n",
      "[3700]\ttraining's l2: 0.00389783\tvalid_1's l2: 0.0160241\n",
      "[3800]\ttraining's l2: 0.00378695\tvalid_1's l2: 0.0160229\n",
      "[3900]\ttraining's l2: 0.00367315\tvalid_1's l2: 0.0160136\n",
      "[4000]\ttraining's l2: 0.00356813\tvalid_1's l2: 0.0160148\n",
      "[4100]\ttraining's l2: 0.00346862\tvalid_1's l2: 0.0159979\n",
      "[4200]\ttraining's l2: 0.00337084\tvalid_1's l2: 0.0160012\n",
      "[4300]\ttraining's l2: 0.00327951\tvalid_1's l2: 0.0160012\n",
      "[4400]\ttraining's l2: 0.00318951\tvalid_1's l2: 0.0159983\n",
      "[4500]\ttraining's l2: 0.00310028\tvalid_1's l2: 0.016\n",
      "[4600]\ttraining's l2: 0.00301549\tvalid_1's l2: 0.0159919\n",
      "[4700]\ttraining's l2: 0.0029332\tvalid_1's l2: 0.0159926\n",
      "[4800]\ttraining's l2: 0.00285502\tvalid_1's l2: 0.0159961\n",
      "[4900]\ttraining's l2: 0.00278084\tvalid_1's l2: 0.0159914\n",
      "[5000]\ttraining's l2: 0.0027087\tvalid_1's l2: 0.0160036\n",
      "[5100]\ttraining's l2: 0.00263913\tvalid_1's l2: 0.015993\n",
      "[5200]\ttraining's l2: 0.0025711\tvalid_1's l2: 0.0159816\n",
      "[5300]\ttraining's l2: 0.00250621\tvalid_1's l2: 0.0159658\n",
      "[5400]\ttraining's l2: 0.00244343\tvalid_1's l2: 0.0159605\n",
      "[5500]\ttraining's l2: 0.00238257\tvalid_1's l2: 0.0159602\n",
      "[5600]\ttraining's l2: 0.00232076\tvalid_1's l2: 0.0159686\n",
      "[5700]\ttraining's l2: 0.00226345\tvalid_1's l2: 0.0159701\n",
      "[5800]\ttraining's l2: 0.00220752\tvalid_1's l2: 0.0159704\n",
      "[5900]\ttraining's l2: 0.00215097\tvalid_1's l2: 0.0159637\n",
      "[6000]\ttraining's l2: 0.00209743\tvalid_1's l2: 0.0159558\n",
      "[6100]\ttraining's l2: 0.00204546\tvalid_1's l2: 0.0159576\n",
      "[6200]\ttraining's l2: 0.00199603\tvalid_1's l2: 0.0159603\n",
      "[6300]\ttraining's l2: 0.00195012\tvalid_1's l2: 0.0159597\n",
      "[6400]\ttraining's l2: 0.00190281\tvalid_1's l2: 0.0159589\n",
      "[6500]\ttraining's l2: 0.00185806\tvalid_1's l2: 0.015963\n",
      "[6600]\ttraining's l2: 0.00181234\tvalid_1's l2: 0.0159634\n",
      "[6700]\ttraining's l2: 0.00176759\tvalid_1's l2: 0.015952\n",
      "[6800]\ttraining's l2: 0.0017237\tvalid_1's l2: 0.0159378\n",
      "[6900]\ttraining's l2: 0.00168274\tvalid_1's l2: 0.0159426\n",
      "[7000]\ttraining's l2: 0.00164272\tvalid_1's l2: 0.0159566\n",
      "[7100]\ttraining's l2: 0.00160341\tvalid_1's l2: 0.0159504\n",
      "[7200]\ttraining's l2: 0.00156546\tvalid_1's l2: 0.0159564\n",
      "[7300]\ttraining's l2: 0.00152988\tvalid_1's l2: 0.0159567\n",
      "[7400]\ttraining's l2: 0.00149499\tvalid_1's l2: 0.015955\n",
      "[7500]\ttraining's l2: 0.0014592\tvalid_1's l2: 0.0159591\n",
      "[7600]\ttraining's l2: 0.00142765\tvalid_1's l2: 0.0159647\n",
      "[7700]\ttraining's l2: 0.00139607\tvalid_1's l2: 0.015957\n",
      "[7800]\ttraining's l2: 0.00136481\tvalid_1's l2: 0.015947\n",
      "[7900]\ttraining's l2: 0.00133441\tvalid_1's l2: 0.015953\n",
      "[8000]\ttraining's l2: 0.00130463\tvalid_1's l2: 0.0159595\n",
      "[8100]\ttraining's l2: 0.00127498\tvalid_1's l2: 0.0159666\n",
      "[8200]\ttraining's l2: 0.00124733\tvalid_1's l2: 0.0159676\n",
      "[8300]\ttraining's l2: 0.00122019\tvalid_1's l2: 0.0159761\n",
      "[8400]\ttraining's l2: 0.00119319\tvalid_1's l2: 0.015966\n",
      "[8500]\ttraining's l2: 0.00116831\tvalid_1's l2: 0.0159631\n",
      "[8600]\ttraining's l2: 0.00114281\tvalid_1's l2: 0.0159643\n",
      "[8700]\ttraining's l2: 0.00111767\tvalid_1's l2: 0.0159619\n",
      "[8800]\ttraining's l2: 0.00109369\tvalid_1's l2: 0.0159539\n",
      "[8900]\ttraining's l2: 0.00107033\tvalid_1's l2: 0.0159549\n",
      "[9000]\ttraining's l2: 0.00104709\tvalid_1's l2: 0.0159476\n",
      "[9100]\ttraining's l2: 0.00102471\tvalid_1's l2: 0.0159427\n",
      "[9200]\ttraining's l2: 0.0010024\tvalid_1's l2: 0.0159492\n",
      "[9300]\ttraining's l2: 0.000980698\tvalid_1's l2: 0.0159552\n",
      "[9400]\ttraining's l2: 0.000959905\tvalid_1's l2: 0.0159527\n",
      "[9500]\ttraining's l2: 0.000940142\tvalid_1's l2: 0.0159527\n",
      "[9600]\ttraining's l2: 0.000920404\tvalid_1's l2: 0.0159537\n",
      "[9700]\ttraining's l2: 0.000900638\tvalid_1's l2: 0.0159602\n",
      "[9800]\ttraining's l2: 0.000881288\tvalid_1's l2: 0.0159611\n",
      "[9900]\ttraining's l2: 0.000861922\tvalid_1's l2: 0.0159681\n",
      "[10000]\ttraining's l2: 0.000843564\tvalid_1's l2: 0.0159676\n",
      "[10100]\ttraining's l2: 0.000826209\tvalid_1's l2: 0.0159695\n",
      "[10200]\ttraining's l2: 0.000808808\tvalid_1's l2: 0.0159645\n",
      "[10300]\ttraining's l2: 0.000792647\tvalid_1's l2: 0.0159662\n",
      "[10400]\ttraining's l2: 0.000776755\tvalid_1's l2: 0.0159675\n",
      "[10500]\ttraining's l2: 0.000760277\tvalid_1's l2: 0.0159585\n",
      "[10600]\ttraining's l2: 0.000745557\tvalid_1's l2: 0.0159551\n",
      "[10700]\ttraining's l2: 0.000730681\tvalid_1's l2: 0.0159576\n",
      "[10800]\ttraining's l2: 0.000716014\tvalid_1's l2: 0.0159578\n",
      "[10900]\ttraining's l2: 0.000701012\tvalid_1's l2: 0.0159543\n",
      "[11000]\ttraining's l2: 0.000687257\tvalid_1's l2: 0.0159586\n",
      "[11100]\ttraining's l2: 0.000673679\tvalid_1's l2: 0.0159618\n",
      "[11200]\ttraining's l2: 0.000660415\tvalid_1's l2: 0.0159574\n",
      "[11300]\ttraining's l2: 0.000647208\tvalid_1's l2: 0.015963\n",
      "[11400]\ttraining's l2: 0.000633921\tvalid_1's l2: 0.0159663\n",
      "[11500]\ttraining's l2: 0.000621654\tvalid_1's l2: 0.0159622\n",
      "[11600]\ttraining's l2: 0.000609282\tvalid_1's l2: 0.0159634\n",
      "[11700]\ttraining's l2: 0.00059732\tvalid_1's l2: 0.0159613\n",
      "[11800]\ttraining's l2: 0.000585665\tvalid_1's l2: 0.0159632\n",
      "[11900]\ttraining's l2: 0.00057443\tvalid_1's l2: 0.0159612\n",
      "[12000]\ttraining's l2: 0.00056388\tvalid_1's l2: 0.0159619\n",
      "[12100]\ttraining's l2: 0.000552959\tvalid_1's l2: 0.0159647\n",
      "[12200]\ttraining's l2: 0.000542563\tvalid_1's l2: 0.0159671\n",
      "[12300]\ttraining's l2: 0.000532447\tvalid_1's l2: 0.0159698\n",
      "[12400]\ttraining's l2: 0.000521962\tvalid_1's l2: 0.0159748\n",
      "[12500]\ttraining's l2: 0.000512295\tvalid_1's l2: 0.0159724\n",
      "[12600]\ttraining's l2: 0.000502842\tvalid_1's l2: 0.0159765\n",
      "[12700]\ttraining's l2: 0.000493262\tvalid_1's l2: 0.0159779\n",
      "[12800]\ttraining's l2: 0.000483633\tvalid_1's l2: 0.0159797\n",
      "[12900]\ttraining's l2: 0.00047472\tvalid_1's l2: 0.0159817\n",
      "[13000]\ttraining's l2: 0.000465755\tvalid_1's l2: 0.0159814\n"
     ]
    }
   ],
   "source": [
    "#fitting the model\n",
    "lgb_model = lgb.train(defaulf_lgbm_params, train_data, \n",
    "                                            valid_sets = [train_data, test_data],\n",
    "                                            verbose_eval = 100,\n",
    "                                            num_boost_round = 500\n",
    "                                     )"
   ]
  },
  {
   "cell_type": "code",
   "execution_count": 78,
   "id": "irish-circumstances",
   "metadata": {},
   "outputs": [
    {
     "data": {
      "text/plain": [
       "0.12641773387834096"
      ]
     },
     "execution_count": 78,
     "metadata": {},
     "output_type": "execute_result"
    }
   ],
   "source": [
    "mean_squared_error(lgb_model.predict(X_test), y_test, squared=False)"
   ]
  },
  {
   "cell_type": "markdown",
   "id": "instant-railway",
   "metadata": {},
   "source": [
    "# Submission "
   ]
  },
  {
   "cell_type": "code",
   "execution_count": 80,
   "id": "fifteen-composer",
   "metadata": {},
   "outputs": [],
   "source": [
    "#prediction for validation set\n",
    "sub = lgb_model.predict(val_imp)"
   ]
  },
  {
   "cell_type": "code",
   "execution_count": 83,
   "id": "welcome-format",
   "metadata": {},
   "outputs": [],
   "source": [
    "#transforming back from log\n",
    "sub_normal = np.exp(sub)"
   ]
  },
  {
   "cell_type": "code",
   "execution_count": 88,
   "id": "marked-correction",
   "metadata": {},
   "outputs": [],
   "source": [
    "final = pd.DataFrame({'Id' : val_imp.Id, \n",
    "                 'SalePrice' : sub_normal})"
   ]
  },
  {
   "cell_type": "code",
   "execution_count": 90,
   "id": "supreme-municipality",
   "metadata": {},
   "outputs": [],
   "source": [
    "final.to_csv('final_pred.csv', index=False)"
   ]
  },
  {
   "cell_type": "code",
   "execution_count": null,
   "id": "regulation-manchester",
   "metadata": {},
   "outputs": [],
   "source": []
  }
 ],
 "metadata": {
  "kernelspec": {
   "display_name": "Python 3",
   "language": "python",
   "name": "python3"
  },
  "language_info": {
   "codemirror_mode": {
    "name": "ipython",
    "version": 3
   },
   "file_extension": ".py",
   "mimetype": "text/x-python",
   "name": "python",
   "nbconvert_exporter": "python",
   "pygments_lexer": "ipython3",
   "version": "3.8.3"
  }
 },
 "nbformat": 4,
 "nbformat_minor": 5
}
